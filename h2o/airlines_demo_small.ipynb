{
 "cells": [
  {
   "cell_type": "code",
   "execution_count": 1,
   "metadata": {},
   "outputs": [],
   "source": [
    "import h2o\n",
    "import pandas\n",
    "import pprint\n",
    "import operator\n",
    "import matplotlib\n",
    "from h2o.estimators.glm import H2OGeneralizedLinearEstimator\n",
    "from h2o.estimators.gbm import H2OGradientBoostingEstimator\n",
    "from h2o.estimators.random_forest import H2ORandomForestEstimator\n",
    "from h2o.estimators.deeplearning import H2ODeepLearningEstimator\n",
    "from tabulate import tabulate"
   ]
  },
  {
   "cell_type": "code",
   "execution_count": 2,
   "metadata": {},
   "outputs": [
    {
     "name": "stdout",
     "output_type": "stream",
     "text": [
      "Checking whether there is an H2O instance running at http://localhost:54321..... not found.\n",
      "Attempting to start a local H2O server...\n",
      "  Java Version: openjdk version \"1.8.0_181\"; OpenJDK Runtime Environment (build 1.8.0_181-8u181-b13-2~deb9u1-b13); OpenJDK 64-Bit Server VM (build 25.181-b13, mixed mode)\n",
      "  Starting server from /opt/conda/lib/python3.7/site-packages/h2o/backend/bin/h2o.jar\n",
      "  Ice root: /tmp/tmpqe66_cvz\n",
      "  JVM stdout: /tmp/tmpqe66_cvz/h2o_unknownUser_started_from_python.out\n",
      "  JVM stderr: /tmp/tmpqe66_cvz/h2o_unknownUser_started_from_python.err\n",
      "  Server is running at http://127.0.0.1:54321\n",
      "Connecting to H2O server at http://127.0.0.1:54321... successful.\n"
     ]
    },
    {
     "data": {
      "text/html": [
       "<div style=\"overflow:auto\"><table style=\"width:50%\"><tr><td>H2O cluster uptime:</td>\n",
       "<td>02 secs</td></tr>\n",
       "<tr><td>H2O cluster timezone:</td>\n",
       "<td>Etc/UTC</td></tr>\n",
       "<tr><td>H2O data parsing timezone:</td>\n",
       "<td>UTC</td></tr>\n",
       "<tr><td>H2O cluster version:</td>\n",
       "<td>3.22.1.1</td></tr>\n",
       "<tr><td>H2O cluster version age:</td>\n",
       "<td>1 day </td></tr>\n",
       "<tr><td>H2O cluster name:</td>\n",
       "<td>H2O_from_python_unknownUser_gedkqq</td></tr>\n",
       "<tr><td>H2O cluster total nodes:</td>\n",
       "<td>1</td></tr>\n",
       "<tr><td>H2O cluster free memory:</td>\n",
       "<td>3.042 Gb</td></tr>\n",
       "<tr><td>H2O cluster total cores:</td>\n",
       "<td>7</td></tr>\n",
       "<tr><td>H2O cluster allowed cores:</td>\n",
       "<td>7</td></tr>\n",
       "<tr><td>H2O cluster status:</td>\n",
       "<td>accepting new members, healthy</td></tr>\n",
       "<tr><td>H2O connection url:</td>\n",
       "<td>http://127.0.0.1:54321</td></tr>\n",
       "<tr><td>H2O connection proxy:</td>\n",
       "<td>None</td></tr>\n",
       "<tr><td>H2O internal security:</td>\n",
       "<td>False</td></tr>\n",
       "<tr><td>H2O API Extensions:</td>\n",
       "<td>XGBoost, Algos, AutoML, Core V3, Core V4</td></tr>\n",
       "<tr><td>Python version:</td>\n",
       "<td>3.7.0 final</td></tr></table></div>"
      ],
      "text/plain": [
       "--------------------------  ----------------------------------------\n",
       "H2O cluster uptime:         02 secs\n",
       "H2O cluster timezone:       Etc/UTC\n",
       "H2O data parsing timezone:  UTC\n",
       "H2O cluster version:        3.22.1.1\n",
       "H2O cluster version age:    1 day\n",
       "H2O cluster name:           H2O_from_python_unknownUser_gedkqq\n",
       "H2O cluster total nodes:    1\n",
       "H2O cluster free memory:    3.042 Gb\n",
       "H2O cluster total cores:    7\n",
       "H2O cluster allowed cores:  7\n",
       "H2O cluster status:         accepting new members, healthy\n",
       "H2O connection url:         http://127.0.0.1:54321\n",
       "H2O connection proxy:\n",
       "H2O internal security:      False\n",
       "H2O API Extensions:         XGBoost, Algos, AutoML, Core V3, Core V4\n",
       "Python version:             3.7.0 final\n",
       "--------------------------  ----------------------------------------"
      ]
     },
     "metadata": {},
     "output_type": "display_data"
    }
   ],
   "source": [
    "# Connect to a cluster\n",
    "h2o.init()"
   ]
  },
  {
   "cell_type": "code",
   "execution_count": 3,
   "metadata": {},
   "outputs": [],
   "source": [
    "# set this to True if interactive (matplotlib) plots are desired\n",
    "interactive = False\n",
    "if not interactive: matplotlib.use('Agg', warn=False)\n",
    "import matplotlib.pyplot as plt"
   ]
  },
  {
   "cell_type": "code",
   "execution_count": 5,
   "metadata": {},
   "outputs": [
    {
     "ename": "ValueError",
     "evalue": "File not found: smalldata/airlines/allyears2k_headers.zip",
     "output_type": "error",
     "traceback": [
      "\u001b[0;31m\u001b[0m",
      "\u001b[0;31mValueError\u001b[0mTraceback (most recent call last)",
      "\u001b[0;32m<ipython-input-5-b872b2e65e45>\u001b[0m in \u001b[0;36m<module>\u001b[0;34m()\u001b[0m\n\u001b[1;32m      2\u001b[0m \u001b[0;31m# air_path = [_locate(\"bigdata/laptop/airlines_all.05p.csv\")]\u001b[0m\u001b[0;34m\u001b[0m\u001b[0;34m\u001b[0m\u001b[0m\n\u001b[1;32m      3\u001b[0m \u001b[0;31m# air_path = [_locate(\"bigdata/laptop/flights-nyc/flights14.csv.zip\")]\u001b[0m\u001b[0;34m\u001b[0m\u001b[0;34m\u001b[0m\u001b[0m\n\u001b[0;32m----> 4\u001b[0;31m \u001b[0mair_path\u001b[0m \u001b[0;34m=\u001b[0m \u001b[0;34m[\u001b[0m\u001b[0m_locate\u001b[0m\u001b[0;34m(\u001b[0m\u001b[0;34m\"smalldata/airlines/allyears2k_headers.zip\"\u001b[0m\u001b[0;34m)\u001b[0m\u001b[0;34m]\u001b[0m\u001b[0;34m\u001b[0m\u001b[0m\n\u001b[0m\u001b[1;32m      5\u001b[0m \u001b[0;34m\u001b[0m\u001b[0m\n\u001b[1;32m      6\u001b[0m \u001b[0;31m# ----------\u001b[0m\u001b[0;34m\u001b[0m\u001b[0;34m\u001b[0m\u001b[0m\n",
      "\u001b[0;32m/opt/conda/lib/python3.7/site-packages/h2o/utils/shared_utils.py\u001b[0m in \u001b[0;36m_locate\u001b[0;34m(path)\u001b[0m\n\u001b[1;32m    239\u001b[0m         \u001b[0mnext_tmp_dir\u001b[0m \u001b[0;34m=\u001b[0m \u001b[0mos\u001b[0m\u001b[0;34m.\u001b[0m\u001b[0mpath\u001b[0m\u001b[0;34m.\u001b[0m\u001b[0mdirname\u001b[0m\u001b[0;34m(\u001b[0m\u001b[0mtmp_dir\u001b[0m\u001b[0;34m)\u001b[0m\u001b[0;34m\u001b[0m\u001b[0m\n\u001b[1;32m    240\u001b[0m         \u001b[0;32mif\u001b[0m \u001b[0mnext_tmp_dir\u001b[0m \u001b[0;34m==\u001b[0m \u001b[0mtmp_dir\u001b[0m\u001b[0;34m:\u001b[0m\u001b[0;34m\u001b[0m\u001b[0m\n\u001b[0;32m--> 241\u001b[0;31m             \u001b[0;32mraise\u001b[0m \u001b[0mValueError\u001b[0m\u001b[0;34m(\u001b[0m\u001b[0;34m\"File not found: \"\u001b[0m \u001b[0;34m+\u001b[0m \u001b[0mpath\u001b[0m\u001b[0;34m)\u001b[0m\u001b[0;34m\u001b[0m\u001b[0m\n\u001b[0m\u001b[1;32m    242\u001b[0m \u001b[0;34m\u001b[0m\u001b[0m\n\u001b[1;32m    243\u001b[0m         \u001b[0mtmp_dir\u001b[0m \u001b[0;34m=\u001b[0m \u001b[0mnext_tmp_dir\u001b[0m\u001b[0;34m\u001b[0m\u001b[0m\n",
      "\u001b[0;31mValueError\u001b[0m: File not found: smalldata/airlines/allyears2k_headers.zip"
     ]
    }
   ],
   "source": [
    "from h2o.utils.shared_utils import _locate # private function. used to find files within h2o git project directory.\n",
    "# air_path = [_locate(\"bigdata/laptop/airlines_all.05p.csv\")]\n",
    "# air_path = [_locate(\"bigdata/laptop/flights-nyc/flights14.csv.zip\")]\n",
    "air_path = [_locate(\"smalldata/airlines/allyears2k_headers.zip\")]\n",
    "\n",
    "# ----------\n",
    "\n",
    "# 1- Load data - 1 row per flight.  Has columns showing the origin,\n",
    "# destination, departure and arrival time, carrier information, and\n",
    "# whether the flight was delayed.\n",
    "print(\"Import and Parse airlines data\")\n",
    "data = h2o.import_file(path=air_path)\n",
    "data.describe()"
   ]
  },
  {
   "cell_type": "code",
   "execution_count": null,
   "metadata": {},
   "outputs": [],
   "source": [
    "# ----------\n",
    "\n",
    "# 2- Data exploration and munging. Generate scatter plots \n",
    "# of various columns and plot fitted GLM model.\n",
    "\n",
    "# Function to fit a GLM model and plot the fitted (x,y) values\n",
    "def scatter_plot(data, x, y, max_points = 1000, fit = True):\n",
    "    if(fit):\n",
    "        lr = H2OGeneralizedLinearEstimator(family = \"gaussian\")\n",
    "        lr.train(x=x, y=y, training_frame=data)\n",
    "        coeff = lr.coef()\n",
    "    df = data[[x,y]]\n",
    "    runif = df[y].runif()\n",
    "    df_subset = df[runif < float(max_points)/data.nrow]\n",
    "    df_py = h2o.as_list(df_subset)\n",
    "    \n",
    "    if(fit): h2o.remove(lr._id)\n",
    "\n",
    "    # If x variable is string, generate box-and-whisker plot\n",
    "    if(df_py[x].dtype == \"object\"):\n",
    "        if interactive: df_py.boxplot(column = y, by = x)\n",
    "    # Otherwise, generate a scatter plot\n",
    "    else:\n",
    "        if interactive: df_py.plot(x = x, y = y, kind = \"scatter\")\n",
    "    \n",
    "    if(fit):\n",
    "        x_min = min(df_py[x])\n",
    "        x_max = max(df_py[x])\n",
    "        y_min = coeff[\"Intercept\"] + coeff[x]*x_min\n",
    "        y_max = coeff[\"Intercept\"] + coeff[x]*x_max\n",
    "        plt.plot([x_min, x_max], [y_min, y_max], \"k-\")\n",
    "    if interactive: plt.show()\n",
    "\n",
    "scatter_plot(data, \"Distance\", \"AirTime\", fit = True)\n",
    "scatter_plot(data, \"UniqueCarrier\", \"ArrDelay\", max_points = 5000, fit = False)"
   ]
  },
  {
   "cell_type": "code",
   "execution_count": null,
   "metadata": {},
   "outputs": [],
   "source": [
    "# Group flights by month\n",
    "grouped = data.group_by(\"Month\")\n",
    "bpd = grouped.count().sum(\"Cancelled\").frame\n",
    "bpd.show()\n",
    "bpd.describe()\n",
    "bpd.dim\n",
    "\n",
    "# Convert columns to factors\n",
    "data[\"Year\"]      = data[\"Year\"]     .asfactor()\n",
    "data[\"Month\"]     = data[\"Month\"]    .asfactor()\n",
    "data[\"DayOfWeek\"] = data[\"DayOfWeek\"].asfactor()\n",
    "data[\"Cancelled\"] = data[\"Cancelled\"].asfactor()"
   ]
  },
  {
   "cell_type": "code",
   "execution_count": null,
   "metadata": {},
   "outputs": [],
   "source": [
    "# Calculate and plot travel time\n",
    "hour1 = data[\"CRSArrTime\"] / 100\n",
    "mins1 = data[\"CRSArrTime\"] % 100\n",
    "arrTime = hour1*60 + mins1\n",
    "\n",
    "hour2 = data[\"CRSDepTime\"] / 100\n",
    "mins2 = data[\"CRSDepTime\"] % 100\n",
    "depTime = hour2*60 + mins2\n",
    "\n",
    "# TODO: Replace this once list comprehension is supported. See PUBDEV-1286.\n",
    "# data[\"TravelTime\"] = [x if x > 0 else None for x in (arrTime - depTime)]\n",
    "data[\"TravelTime\"] = (arrTime-depTime > 0).ifelse((arrTime-depTime), h2o.H2OFrame([[None]] * data.nrow))\n",
    "scatter_plot(data, \"Distance\", \"TravelTime\")"
   ]
  },
  {
   "cell_type": "code",
   "execution_count": null,
   "metadata": {},
   "outputs": [],
   "source": [
    "# Impute missing travel times and re-plot\n",
    "data.impute(column = \"Distance\", by = [\"Origin\", \"Dest\"])\n",
    "scatter_plot(data, \"Distance\", \"TravelTime\")"
   ]
  },
  {
   "cell_type": "code",
   "execution_count": null,
   "metadata": {},
   "outputs": [],
   "source": [
    "# ----------\n",
    "# 3- Fit a model on train; using test as validation\n",
    "\n",
    "# Create test/train split\n",
    "s = data[\"Year\"].runif()\n",
    "train = data[s <= 0.75]\n",
    "test  = data[s > 0.75]\n",
    "\n",
    "# Set predictor and response variables\n",
    "myY = \"IsDepDelayed\"\n",
    "myX = [\"Origin\", \"Dest\", \"Year\", \"UniqueCarrier\", \"DayOfWeek\", \"Month\", \"Distance\", \"FlightNum\"]\n",
    "\n",
    "# Simple GLM - Predict Delays\n",
    "data_glm = H2OGeneralizedLinearEstimator(family=\"binomial\", standardize=True)\n",
    "data_glm.train(x               =myX,\n",
    "               y               =myY,\n",
    "               training_frame  =train,\n",
    "               validation_frame=test)\n",
    "\n",
    "# Simple GBM\n",
    "data_gbm = H2OGradientBoostingEstimator(balance_classes=True,\n",
    "                                        ntrees         =3,\n",
    "                                        max_depth      =1,\n",
    "                                        distribution   =\"bernoulli\",\n",
    "                                        learn_rate     =0.1,\n",
    "                                        min_rows       =2)\n",
    "\n",
    "data_gbm.train(x               =myX,\n",
    "               y               =myY,\n",
    "               training_frame  =train,\n",
    "               validation_frame=test)\n",
    "\n",
    "# Complex GBM\n",
    "data_gbm2 = H2OGradientBoostingEstimator(balance_classes=True,\n",
    "                                         ntrees         =50,\n",
    "                                         max_depth      =5,\n",
    "                                         distribution   =\"bernoulli\",\n",
    "                                         learn_rate     =0.1,\n",
    "                                         min_rows       =2)\n",
    "\n",
    "data_gbm2.train(x               =myX,\n",
    "                y               =myY,\n",
    "                training_frame  =train,\n",
    "                validation_frame=test)\n",
    "\n",
    "# Simple Random Forest\n",
    "data_rf = H2ORandomForestEstimator(ntrees         =5,\n",
    "                                   max_depth      =2,\n",
    "                                   balance_classes=True)\n",
    "\n",
    "data_rf.train(x               =myX,\n",
    "              y               =myY,\n",
    "              training_frame  =train,\n",
    "              validation_frame=test)\n",
    "\n",
    "# Complex Random Forest\n",
    "data_rf2 = H2ORandomForestEstimator(ntrees         =10,\n",
    "                                    max_depth      =5,\n",
    "                                    balance_classes=True)\n",
    "\n",
    "data_rf2.train(x               =myX,\n",
    "               y               =myY,\n",
    "               training_frame  =train,\n",
    "               validation_frame=test)\n",
    "\n",
    "# Deep Learning with 5 epochs\n",
    "data_dl = H2ODeepLearningEstimator(hidden              =[10,10],\n",
    "                                   epochs              =5,\n",
    "                                   variable_importances=True,\n",
    "                                   balance_classes     =True,\n",
    "                                   loss                =\"Automatic\")\n",
    "\n",
    "data_dl.train(x               =myX,\n",
    "              y               =myY,\n",
    "              training_frame  =train,\n",
    "              validation_frame=test)"
   ]
  },
  {
   "cell_type": "code",
   "execution_count": null,
   "metadata": {},
   "outputs": [],
   "source": [
    "# Variable importances from each algorithm\n",
    "# Calculate magnitude of normalized GLM coefficients\n",
    "from six import iteritems\n",
    "glm_varimp = data_glm.coef_norm()\n",
    "for k,v in iteritems(glm_varimp):\n",
    "    glm_varimp[k] = abs(glm_varimp[k])\n",
    "    \n",
    "# Sort in descending order by magnitude\n",
    "glm_sorted = sorted(glm_varimp.items(), key = operator.itemgetter(1), reverse = True)\n",
    "table = tabulate(glm_sorted, headers = [\"Predictor\", \"Normalized Coefficient\"], tablefmt = \"orgtbl\")\n",
    "print(\"Variable Importances:\\n\\n\" + table)\n",
    "\n",
    "data_gbm.varimp()\n",
    "data_rf.varimp()"
   ]
  },
  {
   "cell_type": "code",
   "execution_count": null,
   "metadata": {},
   "outputs": [],
   "source": [
    "# Model performance of GBM model on test data\n",
    "data_gbm2.model_performance(test)"
   ]
  }
 ],
 "metadata": {
  "kernelspec": {
   "display_name": "Python 3",
   "language": "python",
   "name": "python3"
  },
  "language_info": {
   "codemirror_mode": {
    "name": "ipython",
    "version": 3
   },
   "file_extension": ".py",
   "mimetype": "text/x-python",
   "name": "python",
   "nbconvert_exporter": "python",
   "pygments_lexer": "ipython3",
   "version": "3.7.0"
  }
 },
 "nbformat": 4,
 "nbformat_minor": 1
}
