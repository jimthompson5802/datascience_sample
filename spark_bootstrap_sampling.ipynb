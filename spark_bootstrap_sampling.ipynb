{
 "cells": [
  {
   "cell_type": "markdown",
   "metadata": {},
   "source": [
    "## Design Approach:\n",
    "* Instead of the driver task creating bootstrap samples, that funcitonality is delegated to \n",
    "executor tasks by using Spark broadcast() function.  This reduces run time by avoiding recreating the original data set\n",
    "for every sample in an executor.\n",
    "* Each parallel task consists of a `sample_id` and `sample_seed`.  The `sample_seed` value is used by the executor\n",
    "task to create a bootstrap sample"
   ]
  },
  {
   "cell_type": "code",
   "execution_count": 1,
   "metadata": {},
   "outputs": [],
   "source": [
    "from pyspark import RDD\n",
    "import pickle\n",
    "import base64\n",
    "from pyspark import SparkConf, HiveContext\n",
    "from pyspark.sql import  Row\n",
    "import numpy as np\n",
    "import pandas as pd\n",
    "import datetime\n",
    "import socket\n",
    "import os\n",
    "import gc"
   ]
  },
  {
   "cell_type": "raw",
   "metadata": {},
   "source": [
    "    .config('spark.shuffle.compress ','false')\\\n",
    "    .config('spark.shuffle.spill.compress','false')\\\n",
    "    .config('spark.task.maxFailures','8')\\\n",
    "    .config(\"spark.driver.maxResultSize\", \"8g\")\\\n",
    "    .config('spark.executor.memory','16g')\\\n",
    "    .config('spark.executor.instances',str(NUMBER_EXECUTORS))\\\n",
    "    .config('spark.executor.cores',str(NUMBER_CORES))\\"
   ]
  },
  {
   "cell_type": "code",
   "execution_count": 2,
   "metadata": {},
   "outputs": [],
   "source": [
    "NUMBER_OF_ROWS = 400000\n",
    "\n",
    "NUMBER_EXECUTORS = 32\n",
    "NUMBER_CORES = 2\n",
    "#NUMBER_PARTITIONS = NUMBER_EXECUTORS*NUMBER_CORES\n",
    "\n",
    "NUMBER_OF_SAMPLES = 1000 #SAMPLE_SETS * SAMPLE_SET_REPLICATIONS\n",
    "\n",
    "MAX_RANDOM_SEED = int(1e5)"
   ]
  },
  {
   "cell_type": "raw",
   "metadata": {
    "collapsed": true
   },
   "source": [
    "spark.stop()\n",
    "spark = spark.builder\\\n",
    "    .appName('bootstrap redesign - spark2')\\\n",
    "    .config(\"spark.driver.maxResultSize\", \"2g\")\\\n",
    "    .config('spark.executor.memory','1g')\\\n",
    "    .enableHiveSupport()\\\n",
    "    .getOrCreate()\n",
    "    #.config('spark.executor.heartbeatInterval','30s')\\\n",
    "    \n",
    "sc = spark.sparkContext\n",
    "hiveContext = HiveContext(sc)\n"
   ]
  },
  {
   "cell_type": "code",
   "execution_count": 3,
   "metadata": {},
   "outputs": [
    {
     "data": {
      "text/plain": [
       "'2.3.2'"
      ]
     },
     "execution_count": 3,
     "metadata": {},
     "output_type": "execute_result"
    }
   ],
   "source": [
    "sc.version"
   ]
  },
  {
   "cell_type": "code",
   "execution_count": 4,
   "metadata": {},
   "outputs": [
    {
     "data": {
      "text/plain": [
       "'local-1541468711605'"
      ]
     },
     "execution_count": 4,
     "metadata": {},
     "output_type": "execute_result"
    }
   ],
   "source": [
    "sc.applicationId"
   ]
  },
  {
   "cell_type": "code",
   "execution_count": 5,
   "metadata": {},
   "outputs": [
    {
     "data": {
      "text/html": [
       "\n",
       "            <div>\n",
       "                <p><b>SparkSession - hive</b></p>\n",
       "                \n",
       "        <div>\n",
       "            <p><b>SparkContext</b></p>\n",
       "\n",
       "            <p><a href=\"http://004fe3182434:4040\">Spark UI</a></p>\n",
       "\n",
       "            <dl>\n",
       "              <dt>Version</dt>\n",
       "                <dd><code>v2.3.2</code></dd>\n",
       "              <dt>Master</dt>\n",
       "                <dd><code>local[*]</code></dd>\n",
       "              <dt>AppName</dt>\n",
       "                <dd><code>PySparkShell</code></dd>\n",
       "            </dl>\n",
       "        </div>\n",
       "        \n",
       "            </div>\n",
       "        "
      ],
      "text/plain": [
       "<pyspark.sql.session.SparkSession at 0x7f6eaae25f28>"
      ]
     },
     "execution_count": 5,
     "metadata": {},
     "output_type": "execute_result"
    }
   ],
   "source": [
    "spark"
   ]
  },
  {
   "cell_type": "code",
   "execution_count": 6,
   "metadata": {},
   "outputs": [],
   "source": [
    "np.random.seed(21)\n",
    "\n",
    "col1 = np.random.exponential(1,size=NUMBER_OF_ROWS)\n",
    "col2 = np.random.normal(0,1,NUMBER_OF_ROWS)\n",
    "col3 = np.random.randint(1,10,NUMBER_OF_ROWS)\n",
    "category = np.random.choice(['a','b','c','d','e'],NUMBER_OF_ROWS)\n",
    "orig_df = pd.DataFrame(dict(category=category,col1=col1,col2=col2,col3=col3))"
   ]
  },
  {
   "cell_type": "code",
   "execution_count": 7,
   "metadata": {},
   "outputs": [
    {
     "name": "stdout",
     "output_type": "stream",
     "text": [
      "(400000, 4)\n",
      "  category      col1      col2  col3\n",
      "0        b  0.049952 -0.772821     6\n",
      "1        a  0.341237  0.079250     8\n",
      "2        b  1.276423  2.222970     8\n",
      "3        a  0.021853  0.027416     8\n",
      "4        b  0.230575  0.510981     8\n",
      "<class 'pandas.core.frame.DataFrame'>\n"
     ]
    },
    {
     "data": {
      "text/plain": [
       "b    80201\n",
       "e    80113\n",
       "c    79918\n",
       "a    79897\n",
       "d    79871\n",
       "Name: category, dtype: int64"
      ]
     },
     "execution_count": 7,
     "metadata": {},
     "output_type": "execute_result"
    }
   ],
   "source": [
    "print(orig_df.shape)\n",
    "print(orig_df.head(5))\n",
    "print(type(orig_df))\n",
    "orig_df.category.value_counts()"
   ]
  },
  {
   "cell_type": "code",
   "execution_count": 8,
   "metadata": {},
   "outputs": [
    {
     "data": {
      "text/plain": [
       "<pyspark.broadcast.Broadcast at 0x7f6ed2b90e80>"
      ]
     },
     "execution_count": 8,
     "metadata": {},
     "output_type": "execute_result"
    }
   ],
   "source": [
    "# broadcast raw data to executors \n",
    "sc.broadcast(orig_df)"
   ]
  },
  {
   "cell_type": "markdown",
   "metadata": {},
   "source": [
    "## Bootstrap core computations"
   ]
  },
  {
   "cell_type": "code",
   "execution_count": 9,
   "metadata": {},
   "outputs": [],
   "source": [
    "# Define Bootstrap specific Exceptions\n",
    "class BootstrapError(Exception):\n",
    "    \"\"\"Custom excpetion for bootstrap analysis\"\"\"\n",
    "    pass"
   ]
  },
  {
   "cell_type": "code",
   "execution_count": 10,
   "metadata": {},
   "outputs": [],
   "source": [
    "#\n",
    "# Common Calculation fucntion\n",
    "#\n",
    "def calculateSampleStats(df,col):\n",
    "    stat_mean = df[col].mean()\n",
    "    stat_min = df[col].min()\n",
    "    stat_max= df[col].max()\n",
    "    stat_50th = df[col].quantile(0.5)\n",
    "    \n",
    "    return stat_min, stat_mean, stat_max, stat_50th"
   ]
  },
  {
   "cell_type": "code",
   "execution_count": 11,
   "metadata": {},
   "outputs": [],
   "source": [
    "#\n",
    "# function to return summary of sample processing\n",
    "#   Returns a single row of results for the sample\n",
    "#\n",
    "def processASampleReturnSummary(sample_run):\n",
    "    # iterator: Python iterator for each record in a sample\n",
    "    \n",
    "    start_time = datetime.datetime.now()\n",
    "\n",
    "    # retrieve sample id and seed for sampling\n",
    "    sample_id = sample_run['sample_id']\n",
    "    sample_seed = sample_run['sample_seed']\n",
    "\n",
    "    # create bootstrap sample using the specified sample_seed value\n",
    "    sample_df = orig_df.sample(n=orig_df.shape[0],replace=True,random_state=sample_seed)\n",
    "\n",
    "    sample_df['col2'] = sample_df['col2'] + 10*sample_id\n",
    "\n",
    "    result_stats = dict()\n",
    "\n",
    "    for c in ['col2','col1']:\n",
    "        stats = calculateSampleStats(sample_df,c)\n",
    "        stats_to_return = ['min','mean','max','50th']\n",
    "\n",
    "        result_stats.update(dict(zip([c + '_' + stat for stat in stats_to_return],\n",
    "                            [float(x) for x in stats])))\n",
    "\n",
    "    # caculate run-time performance measures\n",
    "    end_time = datetime.datetime.now()\n",
    "\n",
    "    elapsed_time_str = '{}'.format(end_time - start_time)\n",
    "\n",
    "    start_str = '{}'.format(start_time)\n",
    "    end_str = '{}'.format(end_time)\n",
    "\n",
    "    print('>>>>>>Pid: {:d}, completed processing sample_id {:d} at {}'\\\n",
    "          .format(os.getpid(),sample_id,datetime.datetime.now()))\n",
    "\n",
    "     # return results of bootstrap analysis\n",
    "    return dict(sample_id=sample_id, sample_seed=sample_seed, \n",
    "                                  shape=str(sample_df.shape),\n",
    "                      worker_hostname = socket.gethostname(),\n",
    "                      worker_pid = os.getpid(),\n",
    "                      time_start=start_str, time_end=end_str,\n",
    "                      time_elapsed=elapsed_time_str ,    \n",
    "                **result_stats)\n",
    "        "
   ]
  },
  {
   "cell_type": "markdown",
   "metadata": {},
   "source": [
    "## Create and analyze bootstrap samples "
   ]
  },
  {
   "cell_type": "code",
   "execution_count": 12,
   "metadata": {},
   "outputs": [
    {
     "name": "stdout",
     "output_type": "stream",
     "text": [
      "Starting analysis for 1,000 samples\n"
     ]
    }
   ],
   "source": [
    "print('Starting analysis for {:,d} samples'\\\n",
    "     .format(NUMBER_OF_SAMPLES))\n",
    "bootstrap_start = datetime.datetime.now()"
   ]
  },
  {
   "cell_type": "markdown",
   "metadata": {},
   "source": [
    "## Create sample ids and seeds to be use in boostrap sampling"
   ]
  },
  {
   "cell_type": "code",
   "execution_count": 13,
   "metadata": {},
   "outputs": [
    {
     "data": {
      "text/html": [
       "<div>\n",
       "<style scoped>\n",
       "    .dataframe tbody tr th:only-of-type {\n",
       "        vertical-align: middle;\n",
       "    }\n",
       "\n",
       "    .dataframe tbody tr th {\n",
       "        vertical-align: top;\n",
       "    }\n",
       "\n",
       "    .dataframe thead th {\n",
       "        text-align: right;\n",
       "    }\n",
       "</style>\n",
       "<table border=\"1\" class=\"dataframe\">\n",
       "  <thead>\n",
       "    <tr style=\"text-align: right;\">\n",
       "      <th></th>\n",
       "      <th>sample_id</th>\n",
       "      <th>sample_seed</th>\n",
       "    </tr>\n",
       "  </thead>\n",
       "  <tbody>\n",
       "    <tr>\n",
       "      <th>0</th>\n",
       "      <td>1</td>\n",
       "      <td>72031</td>\n",
       "    </tr>\n",
       "    <tr>\n",
       "      <th>1</th>\n",
       "      <td>2</td>\n",
       "      <td>27978</td>\n",
       "    </tr>\n",
       "    <tr>\n",
       "      <th>2</th>\n",
       "      <td>3</td>\n",
       "      <td>55639</td>\n",
       "    </tr>\n",
       "    <tr>\n",
       "      <th>3</th>\n",
       "      <td>4</td>\n",
       "      <td>51955</td>\n",
       "    </tr>\n",
       "    <tr>\n",
       "      <th>4</th>\n",
       "      <td>5</td>\n",
       "      <td>52145</td>\n",
       "    </tr>\n",
       "    <tr>\n",
       "      <th>5</th>\n",
       "      <td>6</td>\n",
       "      <td>3011</td>\n",
       "    </tr>\n",
       "    <tr>\n",
       "      <th>6</th>\n",
       "      <td>7</td>\n",
       "      <td>83607</td>\n",
       "    </tr>\n",
       "    <tr>\n",
       "      <th>7</th>\n",
       "      <td>8</td>\n",
       "      <td>68952</td>\n",
       "    </tr>\n",
       "    <tr>\n",
       "      <th>8</th>\n",
       "      <td>9</td>\n",
       "      <td>90269</td>\n",
       "    </tr>\n",
       "    <tr>\n",
       "      <th>9</th>\n",
       "      <td>10</td>\n",
       "      <td>69234</td>\n",
       "    </tr>\n",
       "  </tbody>\n",
       "</table>\n",
       "</div>"
      ],
      "text/plain": [
       "   sample_id  sample_seed\n",
       "0          1        72031\n",
       "1          2        27978\n",
       "2          3        55639\n",
       "3          4        51955\n",
       "4          5        52145\n",
       "5          6         3011\n",
       "6          7        83607\n",
       "7          8        68952\n",
       "8          9        90269\n",
       "9         10        69234"
      ]
     },
     "execution_count": 13,
     "metadata": {},
     "output_type": "execute_result"
    }
   ],
   "source": [
    "np.random.seed(13)  # make repeatable\n",
    "\n",
    "sample_seeds = pd.DataFrame(dict(sample_id=np.array(range(NUMBER_OF_SAMPLES))+1,\n",
    "                                sample_seed= np.random.choice(range(MAX_RANDOM_SEED),\n",
    "                                                              size=NUMBER_OF_SAMPLES,\n",
    "                                                             replace=False)))\n",
    "sample_seeds.head(10)"
   ]
  },
  {
   "cell_type": "code",
   "execution_count": 14,
   "metadata": {},
   "outputs": [
    {
     "data": {
      "text/html": [
       "<div>\n",
       "<style scoped>\n",
       "    .dataframe tbody tr th:only-of-type {\n",
       "        vertical-align: middle;\n",
       "    }\n",
       "\n",
       "    .dataframe tbody tr th {\n",
       "        vertical-align: top;\n",
       "    }\n",
       "\n",
       "    .dataframe thead th {\n",
       "        text-align: right;\n",
       "    }\n",
       "</style>\n",
       "<table border=\"1\" class=\"dataframe\">\n",
       "  <thead>\n",
       "    <tr style=\"text-align: right;\">\n",
       "      <th></th>\n",
       "      <th>sample_id</th>\n",
       "      <th>sample_seed</th>\n",
       "    </tr>\n",
       "  </thead>\n",
       "  <tbody>\n",
       "    <tr>\n",
       "      <th>990</th>\n",
       "      <td>991</td>\n",
       "      <td>41440</td>\n",
       "    </tr>\n",
       "    <tr>\n",
       "      <th>991</th>\n",
       "      <td>992</td>\n",
       "      <td>92587</td>\n",
       "    </tr>\n",
       "    <tr>\n",
       "      <th>992</th>\n",
       "      <td>993</td>\n",
       "      <td>166</td>\n",
       "    </tr>\n",
       "    <tr>\n",
       "      <th>993</th>\n",
       "      <td>994</td>\n",
       "      <td>24458</td>\n",
       "    </tr>\n",
       "    <tr>\n",
       "      <th>994</th>\n",
       "      <td>995</td>\n",
       "      <td>74793</td>\n",
       "    </tr>\n",
       "    <tr>\n",
       "      <th>995</th>\n",
       "      <td>996</td>\n",
       "      <td>21813</td>\n",
       "    </tr>\n",
       "    <tr>\n",
       "      <th>996</th>\n",
       "      <td>997</td>\n",
       "      <td>62437</td>\n",
       "    </tr>\n",
       "    <tr>\n",
       "      <th>997</th>\n",
       "      <td>998</td>\n",
       "      <td>32343</td>\n",
       "    </tr>\n",
       "    <tr>\n",
       "      <th>998</th>\n",
       "      <td>999</td>\n",
       "      <td>81160</td>\n",
       "    </tr>\n",
       "    <tr>\n",
       "      <th>999</th>\n",
       "      <td>1000</td>\n",
       "      <td>53014</td>\n",
       "    </tr>\n",
       "  </tbody>\n",
       "</table>\n",
       "</div>"
      ],
      "text/plain": [
       "     sample_id  sample_seed\n",
       "990        991        41440\n",
       "991        992        92587\n",
       "992        993          166\n",
       "993        994        24458\n",
       "994        995        74793\n",
       "995        996        21813\n",
       "996        997        62437\n",
       "997        998        32343\n",
       "998        999        81160\n",
       "999       1000        53014"
      ]
     },
     "execution_count": 14,
     "metadata": {},
     "output_type": "execute_result"
    }
   ],
   "source": [
    "sample_seeds.tail(10)"
   ]
  },
  {
   "cell_type": "markdown",
   "metadata": {},
   "source": [
    "## Run the parallel tasks to create sample and compute metrics"
   ]
  },
  {
   "cell_type": "code",
   "execution_count": 15,
   "metadata": {},
   "outputs": [
    {
     "name": "stdout",
     "output_type": "stream",
     "text": [
      "sample_rdd partitions: 64\n",
      "completed creating pandas dataframe creation time: 0:01:04.819175\n",
      "(1000, 16)\n",
      "shape of bootstrap_results is (1000, 16)\n"
     ]
    }
   ],
   "source": [
    "# create RDD to contain sample_seed to create each bootstrap sample in the executors\n",
    "sample_rdd = sc.parallelize(sample_seeds.to_dict('records')).repartition(NUMBER_EXECUTORS*NUMBER_CORES)\n",
    "print(\"sample_rdd partitions: {:d}\".format(sample_rdd.getNumPartitions()))\n",
    "\n",
    "# use mapPartitions() to now run each bootstrap sample in parallel\n",
    "results_df = sample_rdd.map(processASampleReturnSummary) \n",
    "\n",
    "bootstrap_results = pd.DataFrame(results_df.collect())\n",
    "print('completed creating pandas dataframe creation time: {}'.format(datetime.datetime.now() - bootstrap_start))\n",
    "print(bootstrap_results.shape)\n",
    "        \n",
    "print('shape of bootstrap_results is {}'.format(bootstrap_results.shape))"
   ]
  },
  {
   "cell_type": "markdown",
   "metadata": {},
   "source": [
    "## Show sample results"
   ]
  },
  {
   "cell_type": "code",
   "execution_count": 16,
   "metadata": {},
   "outputs": [
    {
     "data": {
      "text/html": [
       "<div>\n",
       "<style scoped>\n",
       "    .dataframe tbody tr th:only-of-type {\n",
       "        vertical-align: middle;\n",
       "    }\n",
       "\n",
       "    .dataframe tbody tr th {\n",
       "        vertical-align: top;\n",
       "    }\n",
       "\n",
       "    .dataframe thead th {\n",
       "        text-align: right;\n",
       "    }\n",
       "</style>\n",
       "<table border=\"1\" class=\"dataframe\">\n",
       "  <thead>\n",
       "    <tr style=\"text-align: right;\">\n",
       "      <th></th>\n",
       "      <th>col1_50th</th>\n",
       "      <th>col1_max</th>\n",
       "      <th>col1_mean</th>\n",
       "      <th>col1_min</th>\n",
       "      <th>col2_50th</th>\n",
       "      <th>col2_max</th>\n",
       "      <th>col2_mean</th>\n",
       "      <th>col2_min</th>\n",
       "      <th>sample_id</th>\n",
       "      <th>sample_seed</th>\n",
       "      <th>shape</th>\n",
       "      <th>time_elapsed</th>\n",
       "      <th>time_end</th>\n",
       "      <th>time_start</th>\n",
       "      <th>worker_hostname</th>\n",
       "      <th>worker_pid</th>\n",
       "    </tr>\n",
       "  </thead>\n",
       "  <tbody>\n",
       "    <tr>\n",
       "      <th>0</th>\n",
       "      <td>0.693381</td>\n",
       "      <td>12.805805</td>\n",
       "      <td>0.999930</td>\n",
       "      <td>2.942334e-07</td>\n",
       "      <td>5069.994987</td>\n",
       "      <td>5074.473786</td>\n",
       "      <td>5069.995823</td>\n",
       "      <td>5065.590632</td>\n",
       "      <td>507</td>\n",
       "      <td>54430</td>\n",
       "      <td>(400000, 4)</td>\n",
       "      <td>0:00:00.354485</td>\n",
       "      <td>2018-11-06 01:45:25.904430</td>\n",
       "      <td>2018-11-06 01:45:25.549945</td>\n",
       "      <td>004fe3182434</td>\n",
       "      <td>158</td>\n",
       "    </tr>\n",
       "    <tr>\n",
       "      <th>1</th>\n",
       "      <td>0.690119</td>\n",
       "      <td>12.584154</td>\n",
       "      <td>0.995685</td>\n",
       "      <td>2.942334e-07</td>\n",
       "      <td>5079.999734</td>\n",
       "      <td>5084.431249</td>\n",
       "      <td>5079.999181</td>\n",
       "      <td>5075.576396</td>\n",
       "      <td>508</td>\n",
       "      <td>82077</td>\n",
       "      <td>(400000, 4)</td>\n",
       "      <td>0:00:00.431357</td>\n",
       "      <td>2018-11-06 01:45:26.367148</td>\n",
       "      <td>2018-11-06 01:45:25.935791</td>\n",
       "      <td>004fe3182434</td>\n",
       "      <td>158</td>\n",
       "    </tr>\n",
       "    <tr>\n",
       "      <th>2</th>\n",
       "      <td>0.692338</td>\n",
       "      <td>12.805805</td>\n",
       "      <td>0.997924</td>\n",
       "      <td>2.942334e-07</td>\n",
       "      <td>5090.000959</td>\n",
       "      <td>5094.473786</td>\n",
       "      <td>5090.002130</td>\n",
       "      <td>5085.299111</td>\n",
       "      <td>509</td>\n",
       "      <td>74715</td>\n",
       "      <td>(400000, 4)</td>\n",
       "      <td>0:00:00.329984</td>\n",
       "      <td>2018-11-06 01:45:26.734229</td>\n",
       "      <td>2018-11-06 01:45:26.404245</td>\n",
       "      <td>004fe3182434</td>\n",
       "      <td>158</td>\n",
       "    </tr>\n",
       "    <tr>\n",
       "      <th>3</th>\n",
       "      <td>0.692880</td>\n",
       "      <td>12.805805</td>\n",
       "      <td>0.999963</td>\n",
       "      <td>2.942334e-07</td>\n",
       "      <td>5099.998244</td>\n",
       "      <td>5104.473786</td>\n",
       "      <td>5099.997106</td>\n",
       "      <td>5095.576396</td>\n",
       "      <td>510</td>\n",
       "      <td>17481</td>\n",
       "      <td>(400000, 4)</td>\n",
       "      <td>0:00:00.318063</td>\n",
       "      <td>2018-11-06 01:45:27.066749</td>\n",
       "      <td>2018-11-06 01:45:26.748686</td>\n",
       "      <td>004fe3182434</td>\n",
       "      <td>158</td>\n",
       "    </tr>\n",
       "    <tr>\n",
       "      <th>4</th>\n",
       "      <td>0.693692</td>\n",
       "      <td>12.805805</td>\n",
       "      <td>0.998533</td>\n",
       "      <td>2.942334e-07</td>\n",
       "      <td>5109.998487</td>\n",
       "      <td>5114.473786</td>\n",
       "      <td>5109.998127</td>\n",
       "      <td>5105.299111</td>\n",
       "      <td>511</td>\n",
       "      <td>38621</td>\n",
       "      <td>(400000, 4)</td>\n",
       "      <td>0:00:00.620760</td>\n",
       "      <td>2018-11-06 01:45:27.709299</td>\n",
       "      <td>2018-11-06 01:45:27.088539</td>\n",
       "      <td>004fe3182434</td>\n",
       "      <td>158</td>\n",
       "    </tr>\n",
       "  </tbody>\n",
       "</table>\n",
       "</div>"
      ],
      "text/plain": [
       "   col1_50th   col1_max  col1_mean      col1_min    col2_50th     col2_max  \\\n",
       "0   0.693381  12.805805   0.999930  2.942334e-07  5069.994987  5074.473786   \n",
       "1   0.690119  12.584154   0.995685  2.942334e-07  5079.999734  5084.431249   \n",
       "2   0.692338  12.805805   0.997924  2.942334e-07  5090.000959  5094.473786   \n",
       "3   0.692880  12.805805   0.999963  2.942334e-07  5099.998244  5104.473786   \n",
       "4   0.693692  12.805805   0.998533  2.942334e-07  5109.998487  5114.473786   \n",
       "\n",
       "     col2_mean     col2_min  sample_id  sample_seed        shape  \\\n",
       "0  5069.995823  5065.590632        507        54430  (400000, 4)   \n",
       "1  5079.999181  5075.576396        508        82077  (400000, 4)   \n",
       "2  5090.002130  5085.299111        509        74715  (400000, 4)   \n",
       "3  5099.997106  5095.576396        510        17481  (400000, 4)   \n",
       "4  5109.998127  5105.299111        511        38621  (400000, 4)   \n",
       "\n",
       "     time_elapsed                    time_end                  time_start  \\\n",
       "0  0:00:00.354485  2018-11-06 01:45:25.904430  2018-11-06 01:45:25.549945   \n",
       "1  0:00:00.431357  2018-11-06 01:45:26.367148  2018-11-06 01:45:25.935791   \n",
       "2  0:00:00.329984  2018-11-06 01:45:26.734229  2018-11-06 01:45:26.404245   \n",
       "3  0:00:00.318063  2018-11-06 01:45:27.066749  2018-11-06 01:45:26.748686   \n",
       "4  0:00:00.620760  2018-11-06 01:45:27.709299  2018-11-06 01:45:27.088539   \n",
       "\n",
       "  worker_hostname  worker_pid  \n",
       "0    004fe3182434         158  \n",
       "1    004fe3182434         158  \n",
       "2    004fe3182434         158  \n",
       "3    004fe3182434         158  \n",
       "4    004fe3182434         158  "
      ]
     },
     "execution_count": 16,
     "metadata": {},
     "output_type": "execute_result"
    }
   ],
   "source": [
    "bootstrap_results.head()"
   ]
  },
  {
   "cell_type": "code",
   "execution_count": 17,
   "metadata": {},
   "outputs": [
    {
     "data": {
      "text/html": [
       "<div>\n",
       "<style scoped>\n",
       "    .dataframe tbody tr th:only-of-type {\n",
       "        vertical-align: middle;\n",
       "    }\n",
       "\n",
       "    .dataframe tbody tr th {\n",
       "        vertical-align: top;\n",
       "    }\n",
       "\n",
       "    .dataframe thead th {\n",
       "        text-align: right;\n",
       "    }\n",
       "</style>\n",
       "<table border=\"1\" class=\"dataframe\">\n",
       "  <thead>\n",
       "    <tr style=\"text-align: right;\">\n",
       "      <th></th>\n",
       "      <th>col1_50th</th>\n",
       "      <th>col1_max</th>\n",
       "      <th>col1_mean</th>\n",
       "      <th>col1_min</th>\n",
       "      <th>col2_50th</th>\n",
       "      <th>col2_max</th>\n",
       "      <th>col2_mean</th>\n",
       "      <th>col2_min</th>\n",
       "      <th>sample_id</th>\n",
       "      <th>sample_seed</th>\n",
       "      <th>shape</th>\n",
       "      <th>time_elapsed</th>\n",
       "      <th>time_end</th>\n",
       "      <th>time_start</th>\n",
       "      <th>worker_hostname</th>\n",
       "      <th>worker_pid</th>\n",
       "    </tr>\n",
       "  </thead>\n",
       "  <tbody>\n",
       "    <tr>\n",
       "      <th>995</th>\n",
       "      <td>0.692380</td>\n",
       "      <td>12.805805</td>\n",
       "      <td>0.998973</td>\n",
       "      <td>2.942334e-07</td>\n",
       "      <td>5019.995991</td>\n",
       "      <td>5024.431249</td>\n",
       "      <td>5019.996335</td>\n",
       "      <td>5015.299111</td>\n",
       "      <td>502</td>\n",
       "      <td>12630</td>\n",
       "      <td>(400000, 4)</td>\n",
       "      <td>0:00:00.161538</td>\n",
       "      <td>2018-11-06 01:46:24.552215</td>\n",
       "      <td>2018-11-06 01:46:24.390677</td>\n",
       "      <td>004fe3182434</td>\n",
       "      <td>149</td>\n",
       "    </tr>\n",
       "    <tr>\n",
       "      <th>996</th>\n",
       "      <td>0.692749</td>\n",
       "      <td>12.805805</td>\n",
       "      <td>0.999727</td>\n",
       "      <td>2.942334e-07</td>\n",
       "      <td>5029.998916</td>\n",
       "      <td>5034.431249</td>\n",
       "      <td>5029.998461</td>\n",
       "      <td>5025.576396</td>\n",
       "      <td>503</td>\n",
       "      <td>37375</td>\n",
       "      <td>(400000, 4)</td>\n",
       "      <td>0:00:00.172546</td>\n",
       "      <td>2018-11-06 01:46:24.725527</td>\n",
       "      <td>2018-11-06 01:46:24.552981</td>\n",
       "      <td>004fe3182434</td>\n",
       "      <td>149</td>\n",
       "    </tr>\n",
       "    <tr>\n",
       "      <th>997</th>\n",
       "      <td>0.692020</td>\n",
       "      <td>12.584154</td>\n",
       "      <td>0.997529</td>\n",
       "      <td>7.826788e-07</td>\n",
       "      <td>5039.995463</td>\n",
       "      <td>5044.473786</td>\n",
       "      <td>5039.997495</td>\n",
       "      <td>5035.299111</td>\n",
       "      <td>504</td>\n",
       "      <td>45086</td>\n",
       "      <td>(400000, 4)</td>\n",
       "      <td>0:00:00.072915</td>\n",
       "      <td>2018-11-06 01:46:24.799365</td>\n",
       "      <td>2018-11-06 01:46:24.726450</td>\n",
       "      <td>004fe3182434</td>\n",
       "      <td>149</td>\n",
       "    </tr>\n",
       "    <tr>\n",
       "      <th>998</th>\n",
       "      <td>0.690182</td>\n",
       "      <td>12.805805</td>\n",
       "      <td>0.999054</td>\n",
       "      <td>7.826788e-07</td>\n",
       "      <td>5049.997470</td>\n",
       "      <td>5054.431249</td>\n",
       "      <td>5049.997462</td>\n",
       "      <td>5045.299111</td>\n",
       "      <td>505</td>\n",
       "      <td>67360</td>\n",
       "      <td>(400000, 4)</td>\n",
       "      <td>0:00:00.090000</td>\n",
       "      <td>2018-11-06 01:46:24.890238</td>\n",
       "      <td>2018-11-06 01:46:24.800238</td>\n",
       "      <td>004fe3182434</td>\n",
       "      <td>149</td>\n",
       "    </tr>\n",
       "    <tr>\n",
       "      <th>999</th>\n",
       "      <td>0.692336</td>\n",
       "      <td>12.805805</td>\n",
       "      <td>0.999025</td>\n",
       "      <td>2.942334e-07</td>\n",
       "      <td>5059.996564</td>\n",
       "      <td>5064.473786</td>\n",
       "      <td>5059.998082</td>\n",
       "      <td>5055.299111</td>\n",
       "      <td>506</td>\n",
       "      <td>56635</td>\n",
       "      <td>(400000, 4)</td>\n",
       "      <td>0:00:00.087523</td>\n",
       "      <td>2018-11-06 01:46:24.984491</td>\n",
       "      <td>2018-11-06 01:46:24.896968</td>\n",
       "      <td>004fe3182434</td>\n",
       "      <td>149</td>\n",
       "    </tr>\n",
       "  </tbody>\n",
       "</table>\n",
       "</div>"
      ],
      "text/plain": [
       "     col1_50th   col1_max  col1_mean      col1_min    col2_50th     col2_max  \\\n",
       "995   0.692380  12.805805   0.998973  2.942334e-07  5019.995991  5024.431249   \n",
       "996   0.692749  12.805805   0.999727  2.942334e-07  5029.998916  5034.431249   \n",
       "997   0.692020  12.584154   0.997529  7.826788e-07  5039.995463  5044.473786   \n",
       "998   0.690182  12.805805   0.999054  7.826788e-07  5049.997470  5054.431249   \n",
       "999   0.692336  12.805805   0.999025  2.942334e-07  5059.996564  5064.473786   \n",
       "\n",
       "       col2_mean     col2_min  sample_id  sample_seed        shape  \\\n",
       "995  5019.996335  5015.299111        502        12630  (400000, 4)   \n",
       "996  5029.998461  5025.576396        503        37375  (400000, 4)   \n",
       "997  5039.997495  5035.299111        504        45086  (400000, 4)   \n",
       "998  5049.997462  5045.299111        505        67360  (400000, 4)   \n",
       "999  5059.998082  5055.299111        506        56635  (400000, 4)   \n",
       "\n",
       "       time_elapsed                    time_end                  time_start  \\\n",
       "995  0:00:00.161538  2018-11-06 01:46:24.552215  2018-11-06 01:46:24.390677   \n",
       "996  0:00:00.172546  2018-11-06 01:46:24.725527  2018-11-06 01:46:24.552981   \n",
       "997  0:00:00.072915  2018-11-06 01:46:24.799365  2018-11-06 01:46:24.726450   \n",
       "998  0:00:00.090000  2018-11-06 01:46:24.890238  2018-11-06 01:46:24.800238   \n",
       "999  0:00:00.087523  2018-11-06 01:46:24.984491  2018-11-06 01:46:24.896968   \n",
       "\n",
       "    worker_hostname  worker_pid  \n",
       "995    004fe3182434         149  \n",
       "996    004fe3182434         149  \n",
       "997    004fe3182434         149  \n",
       "998    004fe3182434         149  \n",
       "999    004fe3182434         149  "
      ]
     },
     "execution_count": 17,
     "metadata": {},
     "output_type": "execute_result"
    }
   ],
   "source": [
    "bootstrap_results.tail()"
   ]
  },
  {
   "cell_type": "raw",
   "metadata": {
    "collapsed": true
   },
   "source": [
    "#spark.catalog.clearCache()"
   ]
  },
  {
   "cell_type": "code",
   "execution_count": null,
   "metadata": {},
   "outputs": [],
   "source": []
  }
 ],
 "metadata": {
  "anaconda-cloud": {},
  "kernelspec": {
   "display_name": "Python 3",
   "language": "python",
   "name": "python3"
  },
  "language_info": {
   "codemirror_mode": {
    "name": "ipython",
    "version": 3
   },
   "file_extension": ".py",
   "mimetype": "text/x-python",
   "name": "python",
   "nbconvert_exporter": "python",
   "pygments_lexer": "ipython3",
   "version": "3.7.0"
  }
 },
 "nbformat": 4,
 "nbformat_minor": 2
}
